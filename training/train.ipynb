{
 "cells": [
  {
   "cell_type": "markdown",
   "metadata": {
    "id": "adFguDXQ5Dat"
   },
   "source": [
    "#1. Setup\n"
   ]
  },
  {
   "cell_type": "code",
   "execution_count": 1,
   "metadata": {
    "colab": {
     "base_uri": "https://localhost:8080/"
    },
    "id": "2OuS87SN52QR",
    "outputId": "6bdc1efe-caed-4de9-d33c-beeb5ed57b38"
   },
   "outputs": [
    {
     "name": "stderr",
     "output_type": "stream",
     "text": [
      "/home/dev/miniconda3/envs/c7643/lib/python3.10/site-packages/tqdm/auto.py:21: TqdmWarning: IProgress not found. Please update jupyter and ipywidgets. See https://ipywidgets.readthedocs.io/en/stable/user_install.html\n",
      "  from .autonotebook import tqdm as notebook_tqdm\n"
     ]
    }
   ],
   "source": [
    "# virtual display for later video recording\n",
    "import os\n",
    "import neat\n",
    "import numpy as np\n",
    "import gymnasium as gym\n",
    "\n",
    "\n",
    "import numpy as np\n",
    "import os\n",
    "from pathlib import Path\n",
    "\n",
    "from tqdm.auto import tqdm\n",
    "from utils import read_genome, write_genome, animate_generations, laststate\n",
    "from genome import QuantizedGenome\n",
    "from reproduce import SoftmaxReproduction\n",
    "from datetime import datetime as dt\n",
    "import multiprocessing as mp"
   ]
  },
  {
   "cell_type": "code",
   "execution_count": 2,
   "metadata": {},
   "outputs": [],
   "source": [
    "def log_header():\n",
    "    with open(\"log.csv\", 'w') as f:\n",
    "        f.write(\",\".join([\"Timestamp\", \"Generation\", \"Best fitness\", \"Avg fitness\"]) + '\\n')\n",
    "\n",
    "def log(data):\n",
    "    data.insert(0, str(dt.now()))\n",
    "    with open(\"log.csv\", 'a') as f:\n",
    "        f.write(\",\".join(data) + '\\n')"
   ]
  },
  {
   "cell_type": "code",
   "execution_count": null,
   "metadata": {
    "id": "7tgkDaXh79-f"
   },
   "outputs": [],
   "source": []
  },
  {
   "cell_type": "code",
   "execution_count": 3,
   "metadata": {},
   "outputs": [],
   "source": [
    "def eval_genome(genome, config):\n",
    "    net = neat.nn.FeedForwardNetwork.create(genome, config)\n",
    "    fitnesses = []\n",
    "\n",
    "    for _ in range(1):  # Run the environment 5 times and take the average fitness\n",
    "        env = gym.make(\"BipedalWalker-v3\", hardcore=False)\n",
    "        observation, _ = env.reset()\n",
    "        fitness = 0.0\n",
    "        max_steps = 1600\n",
    "\n",
    "        for i in range(max_steps):\n",
    "            action = net.activate(observation)\n",
    "            observation, reward, done, truncated, info = env.step(action)\n",
    "            fitness += reward\n",
    "            if done or truncated:\n",
    "                break\n",
    "\n",
    "        fitnesses.append(fitness)\n",
    "        env.close()\n",
    "\n",
    "    return np.mean(fitnesses)\n",
    "\n",
    "def eval_genomes(genomes, config, storage=\"models\"):\n",
    "    global gen\n",
    "    best_fitness = -1e10\n",
    "    most_fit = None\n",
    "    avg_fitness = []\n",
    "    # Get the number of CPU cores\n",
    "    num_cores = mp.cpu_count()\n",
    "\n",
    "    # Create a pool with the number of cores minus one\n",
    "    pool = mp.Pool(processes=num_cores - 1)\n",
    "    \n",
    "    results = [pool.apply_async(eval_genome, args=(genome, config)) for _, genome in genomes]\n",
    "    pool.close()  # Close the pool to prevent new tasks from being submitted\n",
    "\n",
    "    # Create a progress bar\n",
    "    pbar = tqdm(total=len(genomes), desc=f\"Generation {gen:3}\", unit=\"genome\")\n",
    "\n",
    "    for genome_id, (_, genome) in enumerate(genomes):\n",
    "        fitness = results[genome_id].get()  # Retrieve the result from the worker process\n",
    "        genome.fitness = fitness\n",
    "\n",
    "        avg_fitness.append(genome.fitness)\n",
    "\n",
    "        if genome.fitness > best_fitness:\n",
    "            best_fitness = genome.fitness\n",
    "            most_fit = genome\n",
    "\n",
    "        # Update the progress bar\n",
    "        pbar.set_postfix(best_fitness=f\"{best_fitness:.3f}\", avg_fitness=f\"{np.mean(avg_fitness):.3f}\")\n",
    "        pbar.update(1)\n",
    "\n",
    "    pbar.close()\n",
    "\n",
    "    # Wait for all worker processes to finish\n",
    "    for result in results:\n",
    "        result.wait()\n",
    "\n",
    "    os.makedirs(storage, exist_ok=True)\n",
    "    write_genome(most_fit, os.path.join(storage, f\"genome_{gen}.pkl\"))\n",
    "    log([str(gen), str(best_fitness), str(np.mean(avg_fitness))])\n",
    "    # log(f\"Gen: {gen:3} | Best fitness: {best_fitness:.3f} | Avg fitness: {np.mean(avg_fitness):.3f}\")\n",
    "    gen += 1\n",
    "\n",
    "    pool.join() "
   ]
  },
  {
   "cell_type": "code",
   "execution_count": 4,
   "metadata": {
    "id": "20soRNZBAGGZ"
   },
   "outputs": [],
   "source": [
    "# Load the NEAT configuration\n",
    "config = neat.Config(\n",
    "    QuantizedGenome,\n",
    "    neat.DefaultReproduction,\n",
    "    neat.DefaultSpeciesSet,\n",
    "    neat.DefaultStagnation,\n",
    "    'config-quant-bipedal.txt'\n",
    ")\n"
   ]
  },
  {
   "cell_type": "code",
   "execution_count": null,
   "metadata": {
    "colab": {
     "base_uri": "https://localhost:8080/",
     "height": 1000
    },
    "id": "y7FH-J1XiMKL",
    "outputId": "57af781b-b1cb-4210-ab91-c06bb6a9bdda",
    "scrolled": true
   },
   "outputs": [
    {
     "name": "stderr",
     "output_type": "stream",
     "text": [
      "Generation   0: 100%|██████████| 200/200 [00:07<00:00, 27.89genome/s, avg_fitness=-124.953, best_fitness=-71.464]\n",
      "Generation   1: 100%|██████████| 200/200 [00:06<00:00, 30.52genome/s, avg_fitness=-112.687, best_fitness=-62.092]\n",
      "Generation   2: 100%|██████████| 200/200 [00:05<00:00, 33.93genome/s, avg_fitness=-109.379, best_fitness=-15.611]\n",
      "Generation   3: 100%|██████████| 200/200 [00:07<00:00, 26.96genome/s, avg_fitness=-106.376, best_fitness=-16.107]\n",
      "Generation   4: 100%|██████████| 200/200 [00:08<00:00, 22.97genome/s, avg_fitness=-102.654, best_fitness=35.447]\n",
      "Generation   5: 100%|██████████| 200/200 [00:10<00:00, 18.92genome/s, avg_fitness=-98.979, best_fitness=58.688]\n",
      "Generation   6: 100%|██████████| 200/200 [00:10<00:00, 19.57genome/s, avg_fitness=-91.359, best_fitness=28.933]\n",
      "Generation   7: 100%|██████████| 200/200 [00:09<00:00, 20.75genome/s, avg_fitness=-85.498, best_fitness=50.176]\n",
      "Generation   8: 100%|██████████| 200/200 [00:09<00:00, 20.56genome/s, avg_fitness=-80.072, best_fitness=67.660]\n",
      "Generation   9: 100%|██████████| 200/200 [00:09<00:00, 21.65genome/s, avg_fitness=-79.891, best_fitness=61.908]\n",
      "Generation  10: 100%|██████████| 200/200 [00:09<00:00, 20.38genome/s, avg_fitness=-73.805, best_fitness=121.422]\n",
      "Generation  11: 100%|██████████| 200/200 [00:09<00:00, 20.10genome/s, avg_fitness=-68.718, best_fitness=142.897]\n",
      "Generation  12: 100%|██████████| 200/200 [00:11<00:00, 16.98genome/s, avg_fitness=-62.211, best_fitness=123.171]\n",
      "Generation  13: 100%|██████████| 200/200 [00:16<00:00, 12.00genome/s, avg_fitness=-17.031, best_fitness=126.443]\n",
      "Generation  14: 100%|██████████| 200/200 [00:17<00:00, 11.11genome/s, avg_fitness=8.622, best_fitness=184.567] \n",
      "Generation  15: 100%|██████████| 200/200 [00:16<00:00, 11.77genome/s, avg_fitness=11.401, best_fitness=163.721]\n",
      "Generation  16: 100%|██████████| 200/200 [00:14<00:00, 13.93genome/s, avg_fitness=0.749, best_fitness=171.748]  \n",
      "Generation  17: 100%|██████████| 200/200 [00:13<00:00, 14.51genome/s, avg_fitness=-1.017, best_fitness=190.766] \n",
      "Generation  18: 100%|██████████| 200/200 [00:15<00:00, 13.12genome/s, avg_fitness=11.896, best_fitness=210.129]\n",
      "Generation  19: 100%|██████████| 200/200 [00:14<00:00, 13.41genome/s, avg_fitness=15.222, best_fitness=192.588]\n",
      "Generation  20: 100%|██████████| 200/200 [00:15<00:00, 12.95genome/s, avg_fitness=41.837, best_fitness=216.303]\n",
      "Generation  21: 100%|██████████| 200/200 [00:15<00:00, 12.92genome/s, avg_fitness=48.308, best_fitness=205.841]\n",
      "Generation  22: 100%|██████████| 200/200 [00:13<00:00, 14.50genome/s, avg_fitness=22.101, best_fitness=245.190]\n",
      "Generation  23: 100%|██████████| 200/200 [00:15<00:00, 13.23genome/s, avg_fitness=66.254, best_fitness=234.730]\n",
      "Generation  24: 100%|██████████| 200/200 [00:14<00:00, 13.71genome/s, avg_fitness=50.110, best_fitness=224.177]\n",
      "Generation  25: 100%|██████████| 200/200 [00:13<00:00, 14.34genome/s, avg_fitness=49.241, best_fitness=227.882]\n",
      "Generation  26: 100%|██████████| 200/200 [00:14<00:00, 14.01genome/s, avg_fitness=60.436, best_fitness=246.081]\n",
      "Generation  27: 100%|██████████| 200/200 [00:14<00:00, 13.62genome/s, avg_fitness=74.030, best_fitness=243.680]\n",
      "Generation  28: 100%|██████████| 200/200 [00:13<00:00, 14.38genome/s, avg_fitness=63.357, best_fitness=241.994]\n",
      "Generation  29: 100%|██████████| 200/200 [00:14<00:00, 13.76genome/s, avg_fitness=57.701, best_fitness=254.206]\n",
      "Generation  30: 100%|██████████| 200/200 [00:14<00:00, 14.09genome/s, avg_fitness=64.962, best_fitness=247.028]\n",
      "Generation  31: 100%|██████████| 200/200 [00:14<00:00, 13.58genome/s, avg_fitness=78.615, best_fitness=248.018] \n",
      "Generation  32: 100%|██████████| 200/200 [00:15<00:00, 12.69genome/s, avg_fitness=81.197, best_fitness=246.341] \n",
      "Generation  33: 100%|██████████| 200/200 [00:14<00:00, 14.07genome/s, avg_fitness=69.423, best_fitness=246.768]\n",
      "Generation  34: 100%|██████████| 200/200 [00:16<00:00, 12.33genome/s, avg_fitness=94.191, best_fitness=244.606] \n",
      "Generation  35: 100%|██████████| 200/200 [00:13<00:00, 15.15genome/s, avg_fitness=60.310, best_fitness=253.396]\n",
      "Generation  36: 100%|██████████| 200/200 [00:13<00:00, 14.46genome/s, avg_fitness=79.106, best_fitness=260.097] \n",
      "Generation  37: 100%|██████████| 200/200 [00:14<00:00, 14.28genome/s, avg_fitness=67.320, best_fitness=262.039] \n",
      "Generation  38: 100%|██████████| 200/200 [00:12<00:00, 15.90genome/s, avg_fitness=54.108, best_fitness=262.061]\n",
      "Generation  39: 100%|██████████| 200/200 [00:13<00:00, 15.00genome/s, avg_fitness=58.554, best_fitness=263.602]\n",
      "Generation  40: 100%|██████████| 200/200 [00:13<00:00, 15.35genome/s, avg_fitness=54.273, best_fitness=261.569]\n",
      "Generation  41: 100%|██████████| 200/200 [00:13<00:00, 14.38genome/s, avg_fitness=72.535, best_fitness=259.418] \n",
      "Generation  42: 100%|██████████| 200/200 [00:13<00:00, 14.77genome/s, avg_fitness=70.064, best_fitness=260.712]\n",
      "Generation  43: 100%|██████████| 200/200 [00:14<00:00, 14.13genome/s, avg_fitness=93.039, best_fitness=265.959] \n",
      "Generation  44: 100%|██████████| 200/200 [00:13<00:00, 14.49genome/s, avg_fitness=64.566, best_fitness=266.757]\n",
      "Generation  45: 100%|██████████| 200/200 [00:13<00:00, 14.90genome/s, avg_fitness=60.365, best_fitness=263.525]\n",
      "Generation  46: 100%|██████████| 200/200 [00:13<00:00, 14.64genome/s, avg_fitness=66.591, best_fitness=264.198]\n",
      "Generation  47: 100%|██████████| 200/200 [00:13<00:00, 14.43genome/s, avg_fitness=75.311, best_fitness=258.034] \n",
      "Generation  48: 100%|██████████| 200/200 [00:13<00:00, 14.90genome/s, avg_fitness=61.917, best_fitness=257.214]\n",
      "Generation  49: 100%|██████████| 200/200 [00:13<00:00, 14.97genome/s, avg_fitness=58.023, best_fitness=265.298] \n",
      "Generation  50: 100%|██████████| 200/200 [00:13<00:00, 14.30genome/s, avg_fitness=73.948, best_fitness=264.657]\n",
      "Generation  51: 100%|██████████| 200/200 [00:12<00:00, 16.59genome/s, avg_fitness=42.480, best_fitness=256.555]\n",
      "Generation  52: 100%|██████████| 200/200 [00:12<00:00, 15.70genome/s, avg_fitness=50.978, best_fitness=262.408]\n",
      "Generation  53: 100%|██████████| 200/200 [00:12<00:00, 15.90genome/s, avg_fitness=55.485, best_fitness=260.387]\n",
      "Generation  54: 100%|██████████| 200/200 [00:13<00:00, 14.93genome/s, avg_fitness=66.027, best_fitness=262.330]\n",
      "Generation  55: 100%|██████████| 200/200 [00:12<00:00, 15.51genome/s, avg_fitness=40.372, best_fitness=263.755]\n",
      "Generation  56: 100%|██████████| 200/200 [00:13<00:00, 15.20genome/s, avg_fitness=53.389, best_fitness=262.641]\n",
      "Generation  57: 100%|██████████| 200/200 [00:12<00:00, 16.35genome/s, avg_fitness=38.334, best_fitness=263.760]\n",
      "Generation  58: 100%|██████████| 200/200 [00:12<00:00, 15.98genome/s, avg_fitness=49.555, best_fitness=266.299]\n",
      "Generation  59: 100%|██████████| 200/200 [00:11<00:00, 17.24genome/s, avg_fitness=29.712, best_fitness=264.357]\n",
      "Generation  60: 100%|██████████| 200/200 [00:11<00:00, 16.69genome/s, avg_fitness=43.888, best_fitness=267.518]\n",
      "Generation  61: 100%|██████████| 200/200 [00:12<00:00, 16.23genome/s, avg_fitness=56.429, best_fitness=260.814]\n",
      "Generation  62: 100%|██████████| 200/200 [00:11<00:00, 17.34genome/s, avg_fitness=24.323, best_fitness=260.262]\n",
      "Generation  63: 100%|██████████| 200/200 [00:11<00:00, 17.41genome/s, avg_fitness=29.687, best_fitness=269.518]\n",
      "Generation  64: 100%|██████████| 200/200 [00:11<00:00, 17.15genome/s, avg_fitness=45.416, best_fitness=269.730]\n",
      "Generation  65: 100%|██████████| 200/200 [00:11<00:00, 17.36genome/s, avg_fitness=41.001, best_fitness=269.290]\n",
      "Generation  66: 100%|██████████| 200/200 [00:11<00:00, 17.25genome/s, avg_fitness=37.358, best_fitness=272.657]\n",
      "Generation  67: 100%|██████████| 200/200 [00:12<00:00, 16.32genome/s, avg_fitness=55.458, best_fitness=271.160]\n",
      "Generation  68: 100%|██████████| 200/200 [00:13<00:00, 15.18genome/s, avg_fitness=63.674, best_fitness=271.977]\n",
      "Generation  69: 100%|██████████| 200/200 [00:12<00:00, 16.04genome/s, avg_fitness=58.684, best_fitness=272.009]\n",
      "Generation  70: 100%|██████████| 200/200 [00:12<00:00, 15.91genome/s, avg_fitness=64.235, best_fitness=271.630] \n",
      "Generation  71: 100%|██████████| 200/200 [00:13<00:00, 14.59genome/s, avg_fitness=73.986, best_fitness=271.029]\n",
      "Generation  72: 100%|██████████| 200/200 [00:13<00:00, 15.02genome/s, avg_fitness=59.956, best_fitness=272.018] \n",
      "Generation  73: 100%|██████████| 200/200 [00:12<00:00, 15.84genome/s, avg_fitness=64.658, best_fitness=272.452]\n",
      "Generation  74: 100%|██████████| 200/200 [00:13<00:00, 14.63genome/s, avg_fitness=62.109, best_fitness=269.016]\n",
      "Generation  75: 100%|██████████| 200/200 [00:13<00:00, 15.05genome/s, avg_fitness=67.847, best_fitness=269.616]\n",
      "Generation  76: 100%|██████████| 200/200 [00:13<00:00, 15.38genome/s, avg_fitness=70.181, best_fitness=271.723]\n",
      "Generation  77: 100%|██████████| 200/200 [00:11<00:00, 16.73genome/s, avg_fitness=44.394, best_fitness=271.315]\n",
      "Generation  78: 100%|██████████| 200/200 [00:14<00:00, 14.27genome/s, avg_fitness=85.234, best_fitness=271.009] \n",
      "Generation  79: 100%|██████████| 200/200 [00:12<00:00, 16.31genome/s, avg_fitness=67.653, best_fitness=269.144]\n",
      "Generation  80: 100%|██████████| 200/200 [00:10<00:00, 18.75genome/s, avg_fitness=29.485, best_fitness=271.895]\n",
      "Generation  81: 100%|██████████| 200/200 [00:13<00:00, 15.24genome/s, avg_fitness=74.168, best_fitness=270.148]\n",
      "Generation  82: 100%|██████████| 200/200 [00:13<00:00, 14.63genome/s, avg_fitness=72.812, best_fitness=270.454] \n",
      "Generation  83: 100%|██████████| 200/200 [00:11<00:00, 17.32genome/s, avg_fitness=44.307, best_fitness=269.870]\n",
      "Generation  84: 100%|██████████| 200/200 [00:12<00:00, 15.76genome/s, avg_fitness=58.825, best_fitness=273.016]\n",
      "Generation  85: 100%|██████████| 200/200 [00:12<00:00, 15.95genome/s, avg_fitness=61.938, best_fitness=273.447]\n",
      "Generation  86: 100%|██████████| 200/200 [00:12<00:00, 16.38genome/s, avg_fitness=59.383, best_fitness=274.377]\n",
      "Generation  87: 100%|██████████| 200/200 [00:11<00:00, 17.43genome/s, avg_fitness=43.317, best_fitness=272.808]\n",
      "Generation  88: 100%|██████████| 200/200 [00:11<00:00, 17.10genome/s, avg_fitness=43.904, best_fitness=270.840]\n",
      "Generation  89: 100%|██████████| 200/200 [00:12<00:00, 16.18genome/s, avg_fitness=66.584, best_fitness=271.657] \n",
      "Generation  90: 100%|██████████| 200/200 [00:12<00:00, 16.04genome/s, avg_fitness=57.732, best_fitness=268.735]\n",
      "Generation  91: 100%|██████████| 200/200 [00:12<00:00, 16.26genome/s, avg_fitness=64.179, best_fitness=269.805]\n",
      "Generation  92: 100%|██████████| 200/200 [00:11<00:00, 17.44genome/s, avg_fitness=47.448, best_fitness=274.338]\n",
      "Generation  93: 100%|██████████| 200/200 [00:11<00:00, 17.37genome/s, avg_fitness=53.826, best_fitness=272.711]\n",
      "Generation  94: 100%|██████████| 200/200 [00:11<00:00, 17.68genome/s, avg_fitness=45.584, best_fitness=270.810]\n",
      "Generation  95: 100%|██████████| 200/200 [00:11<00:00, 17.20genome/s, avg_fitness=54.288, best_fitness=271.993]\n",
      "Generation  96: 100%|██████████| 200/200 [00:11<00:00, 16.85genome/s, avg_fitness=58.929, best_fitness=270.974]\n",
      "Generation  97: 100%|██████████| 200/200 [00:10<00:00, 19.24genome/s, avg_fitness=36.910, best_fitness=273.204]\n",
      "Generation  98: 100%|██████████| 200/200 [00:10<00:00, 19.21genome/s, avg_fitness=30.572, best_fitness=271.525]\n",
      "Generation  99: 100%|██████████| 200/200 [00:09<00:00, 20.96genome/s, avg_fitness=20.912, best_fitness=274.155]\n",
      "Generation 100: 100%|██████████| 200/200 [00:11<00:00, 17.69genome/s, avg_fitness=40.483, best_fitness=271.522]\n",
      "Generation 101: 100%|██████████| 200/200 [00:11<00:00, 17.63genome/s, avg_fitness=52.490, best_fitness=275.804]\n",
      "Generation 102: 100%|██████████| 200/200 [00:09<00:00, 20.08genome/s, avg_fitness=9.028, best_fitness=270.724] \n",
      "Generation 103: 100%|██████████| 200/200 [00:10<00:00, 19.78genome/s, avg_fitness=19.877, best_fitness=269.383]\n",
      "Generation 104: 100%|██████████| 200/200 [00:11<00:00, 16.93genome/s, avg_fitness=37.922, best_fitness=273.468]\n",
      "Generation 105: 100%|██████████| 200/200 [00:12<00:00, 15.75genome/s, avg_fitness=58.515, best_fitness=272.739]\n",
      "Generation 106: 100%|██████████| 200/200 [00:12<00:00, 15.57genome/s, avg_fitness=66.395, best_fitness=274.332] \n",
      "Generation 107: 100%|██████████| 200/200 [00:12<00:00, 16.60genome/s, avg_fitness=47.913, best_fitness=271.511]\n",
      "Generation 108: 100%|██████████| 200/200 [00:11<00:00, 16.78genome/s, avg_fitness=45.340, best_fitness=271.677]\n",
      "Generation 109: 100%|██████████| 200/200 [00:11<00:00, 17.14genome/s, avg_fitness=41.820, best_fitness=272.368]\n",
      "Generation 110: 100%|██████████| 200/200 [00:10<00:00, 19.77genome/s, avg_fitness=14.938, best_fitness=273.224]\n",
      "Generation 111: 100%|██████████| 200/200 [00:10<00:00, 18.30genome/s, avg_fitness=28.904, best_fitness=275.399]\n",
      "Generation 112: 100%|██████████| 200/200 [00:11<00:00, 17.97genome/s, avg_fitness=44.114, best_fitness=272.517]\n",
      "Generation 113: 100%|██████████| 200/200 [00:11<00:00, 16.97genome/s, avg_fitness=49.163, best_fitness=274.438]\n",
      "Generation 114: 100%|██████████| 200/200 [00:11<00:00, 17.77genome/s, avg_fitness=36.229, best_fitness=271.043]\n",
      "Generation 115: 100%|██████████| 200/200 [00:10<00:00, 19.59genome/s, avg_fitness=20.515, best_fitness=270.213]\n",
      "Generation 116: 100%|██████████| 200/200 [00:11<00:00, 17.37genome/s, avg_fitness=37.403, best_fitness=272.136]\n",
      "Generation 117: 100%|██████████| 200/200 [00:11<00:00, 17.88genome/s, avg_fitness=29.418, best_fitness=271.458]\n",
      "Generation 118: 100%|██████████| 200/200 [00:10<00:00, 19.45genome/s, avg_fitness=21.314, best_fitness=273.926]\n",
      "Generation 119: 100%|██████████| 200/200 [00:11<00:00, 17.97genome/s, avg_fitness=46.067, best_fitness=270.897]\n",
      "Generation 120: 100%|██████████| 200/200 [00:11<00:00, 17.72genome/s, avg_fitness=42.152, best_fitness=272.873]\n",
      "Generation 121: 100%|██████████| 200/200 [00:10<00:00, 18.50genome/s, avg_fitness=44.188, best_fitness=270.042]\n",
      "Generation 122: 100%|██████████| 200/200 [00:11<00:00, 17.92genome/s, avg_fitness=57.205, best_fitness=279.420]\n",
      "Generation 123: 100%|██████████| 200/200 [00:11<00:00, 18.17genome/s, avg_fitness=46.641, best_fitness=272.886]\n",
      "Generation 124: 100%|██████████| 200/200 [00:11<00:00, 17.78genome/s, avg_fitness=52.017, best_fitness=274.052]\n",
      "Generation 125: 100%|██████████| 200/200 [00:10<00:00, 18.89genome/s, avg_fitness=47.784, best_fitness=272.209]\n",
      "Generation 126: 100%|██████████| 200/200 [00:08<00:00, 22.42genome/s, avg_fitness=20.069, best_fitness=273.309]\n",
      "Generation 127: 100%|██████████| 200/200 [00:09<00:00, 20.02genome/s, avg_fitness=38.912, best_fitness=273.737]\n",
      "Generation 128: 100%|██████████| 200/200 [00:08<00:00, 22.95genome/s, avg_fitness=27.254, best_fitness=273.429]\n",
      "Generation 129: 100%|██████████| 200/200 [00:09<00:00, 21.34genome/s, avg_fitness=34.749, best_fitness=272.775]\n",
      "Generation 130: 100%|██████████| 200/200 [00:10<00:00, 19.42genome/s, avg_fitness=48.995, best_fitness=274.344]\n",
      "Generation 131: 100%|██████████| 200/200 [00:10<00:00, 19.51genome/s, avg_fitness=43.350, best_fitness=272.818]\n",
      "Generation 132: 100%|██████████| 200/200 [00:10<00:00, 18.90genome/s, avg_fitness=57.095, best_fitness=272.607]\n",
      "Generation 133: 100%|██████████| 200/200 [00:10<00:00, 19.16genome/s, avg_fitness=47.259, best_fitness=274.456]\n",
      "Generation 134: 100%|██████████| 200/200 [00:09<00:00, 21.84genome/s, avg_fitness=23.101, best_fitness=271.167]\n",
      "Generation 135: 100%|██████████| 200/200 [00:10<00:00, 19.87genome/s, avg_fitness=33.367, best_fitness=271.499]\n",
      "Generation 136: 100%|██████████| 200/200 [00:10<00:00, 19.70genome/s, avg_fitness=32.026, best_fitness=272.959]\n",
      "Generation 137: 100%|██████████| 200/200 [00:10<00:00, 19.58genome/s, avg_fitness=47.807, best_fitness=272.702]\n",
      "Generation 138: 100%|██████████| 200/200 [00:09<00:00, 20.15genome/s, avg_fitness=41.298, best_fitness=272.499]\n",
      "Generation 139: 100%|██████████| 200/200 [00:10<00:00, 19.88genome/s, avg_fitness=36.436, best_fitness=272.336]\n",
      "Generation 140: 100%|██████████| 200/200 [00:10<00:00, 18.91genome/s, avg_fitness=60.107, best_fitness=273.709]\n",
      "Generation 141:  67%|██████▋   | 134/200 [00:07<00:03, 18.45genome/s, avg_fitness=59.508, best_fitness=274.075]"
     ]
    }
   ],
   "source": [
    "# Create the NEAT population\n",
    "p = neat.Population(config)\n",
    "\n",
    "# Run the NEAT algorithm for a smaller number of generations\n",
    "gen = 0\n",
    "log_header()\n",
    "best_genome = p.run(eval_genomes, 150)"
   ]
  },
  {
   "cell_type": "code",
   "execution_count": 20,
   "metadata": {},
   "outputs": [
    {
     "data": {
      "text/plain": [
       "<genome.QuantizedGenome at 0x7f0cbff980a0>"
      ]
     },
     "execution_count": 20,
     "metadata": {},
     "output_type": "execute_result"
    }
   ],
   "source": []
  }
 ],
 "metadata": {
  "colab": {
   "provenance": []
  },
  "kernelspec": {
   "display_name": "Python 3",
   "language": "python",
   "name": "python3"
  },
  "language_info": {
   "codemirror_mode": {
    "name": "ipython",
    "version": 3
   },
   "file_extension": ".py",
   "mimetype": "text/x-python",
   "name": "python",
   "nbconvert_exporter": "python",
   "pygments_lexer": "ipython3",
   "version": "3.10.12"
  }
 },
 "nbformat": 4,
 "nbformat_minor": 4
}
