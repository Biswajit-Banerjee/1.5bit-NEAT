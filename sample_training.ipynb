{
 "cells": [
  {
   "cell_type": "code",
   "execution_count": 3,
   "id": "1d8b9203-5bcd-44d2-9449-709d38ec0980",
   "metadata": {},
   "outputs": [],
   "source": [
    "# virtual display for later video recording\n",
    "import os\n",
    "import neat\n",
    "import numpy as np\n",
    "import gymnasium as gym\n",
    "\n",
    "\n",
    "import numpy as np \n",
    "import os\n",
    "from pathlib import Path\n",
    "\n",
    "from tqdm.auto import tqdm\n",
    "from datetime import datetime as dt\n",
    "import multiprocessing as mp\n",
    "\n",
    "import bitneat"
   ]
  },
  {
   "cell_type": "code",
   "execution_count": 4,
   "id": "a71202db-505c-40b8-b36c-dfd0b906e5bf",
   "metadata": {},
   "outputs": [
    {
     "data": {
      "text/plain": [
       "['BitGenome',\n",
       " 'IntGenome',\n",
       " 'SoftmaxReproduction',\n",
       " '__builtins__',\n",
       " '__cached__',\n",
       " '__doc__',\n",
       " '__file__',\n",
       " '__loader__',\n",
       " '__name__',\n",
       " '__package__',\n",
       " '__path__',\n",
       " '__spec__',\n",
       " 'animate_generations',\n",
       " 'genome',\n",
       " 'laststate',\n",
       " 'read_genome',\n",
       " 'reproduce',\n",
       " 'show',\n",
       " 'simulate_generations',\n",
       " 'train',\n",
       " 'utils',\n",
       " 'visual',\n",
       " 'write_genome']"
      ]
     },
     "execution_count": 4,
     "metadata": {},
     "output_type": "execute_result"
    }
   ],
   "source": [
    "dir(bitneat)"
   ]
  },
  {
   "cell_type": "code",
   "execution_count": 9,
   "id": "4d4764ca-21b9-4d34-90f8-8b7439543c5f",
   "metadata": {},
   "outputs": [],
   "source": [
    "def log_header():\n",
    "    with open(\"log.csv\", 'w') as f:\n",
    "        f.write(\",\".join([\"Timestamp\", \"Generation\", \"Best fitness\", \"Avg fitness\"]) + '\\n')\n",
    "\n",
    "def log(data):\n",
    "    data.insert(0, str(dt.now()))\n",
    "    with open(\"log.csv\", 'a') as f:\n",
    "        f.write(\",\".join(data) + '\\n')"
   ]
  },
  {
   "cell_type": "code",
   "execution_count": 11,
   "id": "99bcd9cd-2790-4ac8-a301-9792cd15c202",
   "metadata": {},
   "outputs": [
    {
     "name": "stdout",
     "output_type": "stream",
     "text": [
      "Help on function write_genome in module bitneat.utils:\n",
      "\n",
      "write_genome(genome, filename)\n",
      "\n"
     ]
    }
   ],
   "source": [
    "help(bitneat.write_genome)"
   ]
  },
  {
   "cell_type": "code",
   "execution_count": 12,
   "id": "5cb6728d-a19b-495d-932e-e9d07a9673c1",
   "metadata": {},
   "outputs": [],
   "source": [
    "def eval_genome(genome, config):\n",
    "    net = neat.nn.FeedForwardNetwork.create(genome, config)\n",
    "    fitnesses = []\n",
    "\n",
    "    for _ in range(1):  # Run the environment 5 times and take the average fitness\n",
    "        env = gym.make(\"BipedalWalker-v3\", hardcore=False)\n",
    "        observation, _ = env.reset()\n",
    "        fitness = 0.0\n",
    "        max_steps = 1600\n",
    "\n",
    "        for i in range(max_steps):\n",
    "            action = net.activate(observation)\n",
    "            observation, reward, done, truncated, info = env.step(action)\n",
    "            fitness += reward\n",
    "            if done or truncated:\n",
    "                break\n",
    "\n",
    "        fitnesses.append(fitness)\n",
    "        env.close()\n",
    "\n",
    "    return np.mean(fitnesses)\n",
    "\n",
    "def eval_genomes(genomes, config, storage=\"models\"):\n",
    "    global gen\n",
    "    best_fitness = -1e10\n",
    "    most_fit = None\n",
    "    avg_fitness = []\n",
    "    # Get the number of CPU cores\n",
    "    num_cores = mp.cpu_count()\n",
    "\n",
    "    # Create a pool with the number of cores minus one\n",
    "    pool = mp.Pool(processes=num_cores - 1)\n",
    "    \n",
    "    results = [pool.apply_async(eval_genome, args=(genome, config)) for _, genome in genomes]\n",
    "    pool.close()  # Close the pool to prevent new tasks from being submitted\n",
    "\n",
    "    # Create a progress bar\n",
    "    pbar = tqdm(total=len(genomes), desc=f\"Generation {gen:3}\", unit=\"genome\")\n",
    "\n",
    "    for genome_id, (_, genome) in enumerate(genomes):\n",
    "        fitness = results[genome_id].get()  # Retrieve the result from the worker process\n",
    "        genome.fitness = fitness\n",
    "\n",
    "        avg_fitness.append(genome.fitness)\n",
    "\n",
    "        if genome.fitness > best_fitness:\n",
    "            best_fitness = genome.fitness\n",
    "            most_fit = genome\n",
    "\n",
    "        # Update the progress bar\n",
    "        pbar.set_postfix(best_fitness=f\"{best_fitness:.3f}\", avg_fitness=f\"{np.mean(avg_fitness):.3f}\")\n",
    "        pbar.update(1)\n",
    "\n",
    "    pbar.close()\n",
    "\n",
    "    # Wait for all worker processes to finish\n",
    "    for result in results:\n",
    "        result.wait()\n",
    "\n",
    "    os.makedirs(storage, exist_ok=True)\n",
    "    bitneat.write_genome(most_fit, os.path.join(storage, f\"genome_{gen}.pkl\"))\n",
    "    log([str(gen), str(best_fitness), str(np.mean(avg_fitness))])\n",
    "    # log(f\"Gen: {gen:3} | Best fitness: {best_fitness:.3f} | Avg fitness: {np.mean(avg_fitness):.3f}\")\n",
    "    gen += 1\n",
    "\n",
    "    pool.join() "
   ]
  },
  {
   "cell_type": "code",
   "execution_count": 13,
   "id": "e86ca44a-5b2a-4126-9ab3-94a708a72b9c",
   "metadata": {},
   "outputs": [],
   "source": [
    "# Load the NEAT configuration\n",
    "config = neat.Config(\n",
    "    bitneat.BitGenome,\n",
    "    neat.DefaultReproduction,\n",
    "    neat.DefaultSpeciesSet,\n",
    "    neat.DefaultStagnation,\n",
    "    'configs/config-bipedal.txt'\n",
    ")\n"
   ]
  },
  {
   "cell_type": "code",
   "execution_count": 14,
   "id": "689ea65a-3611-47a7-94dc-58edbed8dbbf",
   "metadata": {},
   "outputs": [
    {
     "name": "stderr",
     "output_type": "stream",
     "text": [
      "Generation   0: 100%|██████████| 200/200 [00:06<00:00, 32.59genome/s, avg_fitness=-121.498, best_fitness=-61.968]\n",
      "Generation   1: 100%|██████████| 200/200 [00:06<00:00, 32.80genome/s, avg_fitness=-115.408, best_fitness=-54.110]\n",
      "Generation   2: 100%|██████████| 200/200 [00:05<00:00, 34.90genome/s, avg_fitness=-111.767, best_fitness=-63.033]\n",
      "Generation   3: 100%|██████████| 200/200 [00:05<00:00, 39.85genome/s, avg_fitness=-108.137, best_fitness=-43.851]\n",
      "Generation   4: 100%|██████████| 200/200 [00:07<00:00, 28.44genome/s, avg_fitness=-106.267, best_fitness=-50.034]\n",
      "Generation   5: 100%|██████████| 200/200 [00:09<00:00, 21.59genome/s, avg_fitness=-104.988, best_fitness=-29.587]\n",
      "Generation   6: 100%|██████████| 200/200 [00:11<00:00, 17.97genome/s, avg_fitness=-98.974, best_fitness=-31.373]\n",
      "Generation   7: 100%|██████████| 200/200 [00:14<00:00, 14.16genome/s, avg_fitness=-91.302, best_fitness=-5.311] \n",
      "Generation   8: 100%|██████████| 200/200 [00:12<00:00, 16.10genome/s, avg_fitness=-85.962, best_fitness=-2.845]\n",
      "Generation   9: 100%|██████████| 200/200 [00:12<00:00, 15.71genome/s, avg_fitness=-79.745, best_fitness=4.906]\n",
      "Generation  10: 100%|██████████| 200/200 [00:12<00:00, 16.14genome/s, avg_fitness=-75.533, best_fitness=8.892]\n",
      "Generation  11: 100%|██████████| 200/200 [00:11<00:00, 17.61genome/s, avg_fitness=-74.804, best_fitness=6.007]\n",
      "Generation  12: 100%|██████████| 200/200 [00:10<00:00, 18.68genome/s, avg_fitness=-75.898, best_fitness=8.318]\n",
      "Generation  13: 100%|██████████| 200/200 [00:10<00:00, 18.47genome/s, avg_fitness=-74.493, best_fitness=7.535]\n",
      "Generation  14: 100%|██████████| 200/200 [00:10<00:00, 18.94genome/s, avg_fitness=-67.851, best_fitness=8.791]\n",
      "Generation  15: 100%|██████████| 200/200 [00:11<00:00, 17.60genome/s, avg_fitness=-64.870, best_fitness=11.307]\n",
      "Generation  16: 100%|██████████| 200/200 [00:11<00:00, 17.22genome/s, avg_fitness=-61.587, best_fitness=10.143]\n",
      "Generation  17: 100%|██████████| 200/200 [00:10<00:00, 19.19genome/s, avg_fitness=-65.778, best_fitness=26.612]\n",
      "Generation  18: 100%|██████████| 200/200 [00:09<00:00, 21.74genome/s, avg_fitness=-70.242, best_fitness=10.448]\n",
      "Generation  19: 100%|██████████| 200/200 [00:08<00:00, 22.93genome/s, avg_fitness=-73.537, best_fitness=16.368]\n",
      "Generation  20: 100%|██████████| 200/200 [00:10<00:00, 19.89genome/s, avg_fitness=-63.417, best_fitness=17.108]\n",
      "Generation  21: 100%|██████████| 200/200 [00:08<00:00, 22.47genome/s, avg_fitness=-68.295, best_fitness=41.210]\n",
      "Generation  22: 100%|██████████| 200/200 [00:08<00:00, 24.34genome/s, avg_fitness=-69.508, best_fitness=11.284]\n",
      "Generation  23: 100%|██████████| 200/200 [00:09<00:00, 21.29genome/s, avg_fitness=-62.800, best_fitness=11.498]\n",
      "Generation  24: 100%|██████████| 200/200 [00:09<00:00, 21.42genome/s, avg_fitness=-62.832, best_fitness=11.336]\n",
      "Generation  25: 100%|██████████| 200/200 [00:09<00:00, 20.75genome/s, avg_fitness=-56.594, best_fitness=10.635]\n",
      "Generation  26: 100%|██████████| 200/200 [00:08<00:00, 24.07genome/s, avg_fitness=-65.634, best_fitness=11.399]\n",
      "Generation  27: 100%|██████████| 200/200 [00:08<00:00, 23.33genome/s, avg_fitness=-64.040, best_fitness=10.765]\n",
      "Generation  28: 100%|██████████| 200/200 [00:08<00:00, 24.47genome/s, avg_fitness=-64.749, best_fitness=11.026]\n",
      "Generation  29: 100%|██████████| 200/200 [00:10<00:00, 19.80genome/s, avg_fitness=-54.047, best_fitness=11.303]\n",
      "Generation  30: 100%|██████████| 200/200 [00:10<00:00, 18.54genome/s, avg_fitness=-47.622, best_fitness=14.136]\n",
      "Generation  31: 100%|██████████| 200/200 [00:10<00:00, 19.72genome/s, avg_fitness=-53.108, best_fitness=12.562]\n",
      "Generation  32: 100%|██████████| 200/200 [00:10<00:00, 18.19genome/s, avg_fitness=-48.180, best_fitness=13.997]\n",
      "Generation  33: 100%|██████████| 200/200 [00:10<00:00, 18.80genome/s, avg_fitness=-49.410, best_fitness=12.237]\n",
      "Generation  34: 100%|██████████| 200/200 [00:09<00:00, 20.18genome/s, avg_fitness=-53.582, best_fitness=14.172]\n",
      "Generation  35: 100%|██████████| 200/200 [00:11<00:00, 17.69genome/s, avg_fitness=-45.813, best_fitness=11.981]\n",
      "Generation  36: 100%|██████████| 200/200 [00:10<00:00, 18.43genome/s, avg_fitness=-49.138, best_fitness=12.939]\n",
      "Generation  37: 100%|██████████| 200/200 [00:10<00:00, 19.52genome/s, avg_fitness=-53.417, best_fitness=14.838]\n",
      "Generation  38: 100%|██████████| 200/200 [00:10<00:00, 19.90genome/s, avg_fitness=-54.539, best_fitness=13.448]\n",
      "Generation  39: 100%|██████████| 200/200 [00:11<00:00, 17.77genome/s, avg_fitness=-48.190, best_fitness=15.887]\n",
      "Generation  40: 100%|██████████| 200/200 [00:11<00:00, 17.81genome/s, avg_fitness=-43.551, best_fitness=14.000]\n",
      "Generation  41: 100%|██████████| 200/200 [00:10<00:00, 18.78genome/s, avg_fitness=-42.709, best_fitness=14.886] \n",
      "Generation  42: 100%|██████████| 200/200 [00:12<00:00, 16.19genome/s, avg_fitness=-37.227, best_fitness=14.430]\n",
      "Generation  43: 100%|██████████| 200/200 [00:12<00:00, 16.51genome/s, avg_fitness=-34.944, best_fitness=15.155]\n",
      "Generation  44: 100%|██████████| 200/200 [00:12<00:00, 16.03genome/s, avg_fitness=-31.501, best_fitness=14.873]\n",
      "Generation  45: 100%|██████████| 200/200 [00:12<00:00, 16.26genome/s, avg_fitness=-32.490, best_fitness=16.089] \n",
      "Generation  46: 100%|██████████| 200/200 [00:11<00:00, 17.79genome/s, avg_fitness=-37.309, best_fitness=22.503]\n",
      "Generation  47: 100%|██████████| 200/200 [00:12<00:00, 15.47genome/s, avg_fitness=-27.969, best_fitness=15.708]\n",
      "Generation  48: 100%|██████████| 200/200 [00:12<00:00, 15.79genome/s, avg_fitness=-28.481, best_fitness=22.592]\n",
      "Generation  49: 100%|██████████| 200/200 [00:13<00:00, 15.28genome/s, avg_fitness=-26.046, best_fitness=22.579]\n"
     ]
    }
   ],
   "source": [
    "# Create the NEAT population\n",
    "p = neat.Population(config)\n",
    "\n",
    "# Run the NEAT algorithm for a smaller number of generations\n",
    "gen = 0\n",
    "log_header()\n",
    "best_genome = p.run(eval_genomes, 50)"
   ]
  },
  {
   "cell_type": "code",
   "execution_count": 18,
   "id": "62ed5031-3a4e-4263-a8bd-439d471c69f1",
   "metadata": {},
   "outputs": [
    {
     "name": "stdout",
     "output_type": "stream",
     "text": [
      "Generation: 48\n",
      "Fitness: 22.59\n",
      "Nodes, Connections: (14, 95)\n",
      "Sum of Biases: 0.0\n",
      "Weight distribution: {-0.0, 1.0, -1.0}\n"
     ]
    }
   ],
   "source": [
    "gen = 48\n",
    "base_path = \".\"\n",
    "genome = bitneat.read_genome(os.path.join(base_path, \"models\", f'genome_{gen}.pkl'))\n",
    "print(\"Generation:\", gen)\n",
    "print('Fitness:', round(genome.fitness, 2))\n",
    "print(\"Nodes, Connections:\", genome.size())\n",
    "print(\"Sum of Biases:\", sum([t.bias for t in genome.nodes.values()]))\n",
    "print(\"Weight distribution:\", set([t.weight for t in genome.connections.values()]))"
   ]
  },
  {
   "cell_type": "code",
   "execution_count": 19,
   "id": "ead2f995-983a-4dc1-9ecd-340edc2b5db7",
   "metadata": {},
   "outputs": [],
   "source": [
    "env = gym.make(\"BipedalWalker-v3\", hardcore=False, render_mode=\"rgb_array\")\n",
    "net = neat.nn.FeedForwardNetwork.create(genome, config)"
   ]
  },
  {
   "cell_type": "code",
   "execution_count": 20,
   "id": "053a1444-8418-4679-bc51-8e351810cb91",
   "metadata": {},
   "outputs": [
    {
     "name": "stderr",
     "output_type": "stream",
     "text": [
      "100%|█████████▉| 1599/1601 [00:07<00:00, 202.57it/s]\n"
     ]
    },
    {
     "data": {
      "image/png": "[encoded data removed]",
      "text/plain": [
       "<Figure size 600x400 with 1 Axes>"
      ]
     },
     "metadata": {},
     "output_type": "display_data"
    }
   ],
   "source": [
    "bitneat.laststate(net, env, frame_count=1601, gen=gen)"
   ]
  }
 ],
 "metadata": {
  "kernelspec": {
   "display_name": "Python 3",
   "language": "python",
   "name": "python3"
  },
  "language_info": {
   "codemirror_mode": {
    "name": "ipython",
    "version": 3
   },
   "file_extension": ".py",
   "mimetype": "text/x-python",
   "name": "python",
   "nbconvert_exporter": "python",
   "pygments_lexer": "ipython3",
   "version": "3.10.12"
  }
 },
 "nbformat": 4,
 "nbformat_minor": 5
}
